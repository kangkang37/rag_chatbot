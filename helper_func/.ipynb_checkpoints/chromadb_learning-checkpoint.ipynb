{
 "cells": [
  {
   "cell_type": "code",
   "execution_count": 83,
   "id": "1ea4e84b-b45e-47a1-8fbe-f2bf16fec6d9",
   "metadata": {},
   "outputs": [],
   "source": [
    "import chromadb\n",
    "\n",
    "from chromadb.utils.embedding_functions import SentenceTransformerEmbeddingFunction, DefaultEmbeddingFunction\n"
   ]
  },
  {
   "cell_type": "code",
   "execution_count": 2,
   "id": "0b1b1a19-0765-42c9-aefa-6b7f2bc65c47",
   "metadata": {},
   "outputs": [],
   "source": [
    "\n",
    "chroma_client=chromadb.Client()\n"
   ]
  },
  {
   "cell_type": "markdown",
   "id": "cfa80d35-aa7f-4f6c-8f47-55d2db7d62f6",
   "metadata": {},
   "source": [
    "# client创建/删除/提取collection\n",
    "\n",
    "## creat_collection\n",
    "\n",
    "如果已存在这个name的collection，会报错。\n"
   ]
  },
  {
   "cell_type": "code",
   "execution_count": 3,
   "id": "f37c9552-7186-499e-b480-b176c9a38a26",
   "metadata": {},
   "outputs": [],
   "source": [
    "collection1=chroma_client.create_collection(name='test1')\n",
    "collection2=chroma_client.create_collection(name='test2')\n",
    "collection3=chroma_client.create_collection(name='test3')\n"
   ]
  },
  {
   "cell_type": "markdown",
   "id": "4cb02159-78c6-40a1-b895-f712fe4def73",
   "metadata": {},
   "source": [
    "## list_collections()\n",
    "\n",
    "\n",
    "client的所有collection，并输出他们的names。collection的结构。"
   ]
  },
  {
   "cell_type": "code",
   "execution_count": 10,
   "id": "1308f095-7e78-4b7c-8df2-c7a41147b64b",
   "metadata": {},
   "outputs": [
    {
     "name": "stdout",
     "output_type": "stream",
     "text": [
      "[Collection(name=test2), Collection(name=test1), Collection(name=test3)]\n",
      "name='test2' id=UUID('a814bafe-9094-410e-8d01-a7add573df73') metadata=None tenant='default_tenant' database='default_database'\n",
      "test2\n",
      "a814bafe-9094-410e-8d01-a7add573df73\n",
      "None\n",
      "['test2', 'test1', 'test3']\n"
     ]
    }
   ],
   "source": [
    "collection_total = chroma_client.list_collections()\n",
    "print(collection_total)\n",
    "\n",
    "print(collection_total[0])\n",
    "print(collection_total[0].name)\n",
    "print(collection_total[0].id)\n",
    "print(collection_total[0].metadata)\n",
    "\n",
    "collection_names = [collection.name for collection in collection_total]\n",
    "print(collection_names)"
   ]
  },
  {
   "cell_type": "markdown",
   "id": "f20ebdad-7719-4321-addb-3cee2ffc3004",
   "metadata": {},
   "source": [
    "## get/get_or_create/delete\n"
   ]
  },
  {
   "cell_type": "code",
   "execution_count": 11,
   "id": "619dda0d-3033-4b7e-8e35-b6d4accc71a2",
   "metadata": {},
   "outputs": [
    {
     "name": "stdout",
     "output_type": "stream",
     "text": [
      "name='test1' id=UUID('b6c8a2f1-d71f-40ed-8dc8-d093b6d81853') metadata=None tenant='default_tenant' database='default_database'\n"
     ]
    }
   ],
   "source": [
    "collection_test1 = chroma_client.get_collection(name='test1')\n",
    "print(collection_test1)"
   ]
  },
  {
   "cell_type": "markdown",
   "id": "65f9a9ec-6047-41d5-8ca0-3e2ab4b53c1d",
   "metadata": {},
   "source": [
    "担心用create_collection回创建重复的collection；或者用get_collection回提取不存在的collection，则可以用get_or_create_collection。"
   ]
  },
  {
   "cell_type": "code",
   "execution_count": 12,
   "id": "67d1c1e6-ab15-4bc4-a87c-60d92009b0bd",
   "metadata": {},
   "outputs": [
    {
     "name": "stdout",
     "output_type": "stream",
     "text": [
      "name='test4' id=UUID('5f79e41b-0a5e-44ba-a9b7-a00e38c4d530') metadata=None tenant='default_tenant' database='default_database'\n"
     ]
    }
   ],
   "source": [
    "collection_test4 = chroma_client.get_or_create_collection(name='test4')\n",
    "print(collection_test4)\n"
   ]
  },
  {
   "cell_type": "markdown",
   "id": "c2d9fb9d-34d7-4187-ab2f-9339c28ff0b1",
   "metadata": {},
   "source": [
    "删除collection，但如果这个collection本来就不存在，delete会报错。"
   ]
  },
  {
   "cell_type": "code",
   "execution_count": 23,
   "id": "069d07bd-1b1e-4726-af34-22ea3dbf53ff",
   "metadata": {},
   "outputs": [
    {
     "name": "stdout",
     "output_type": "stream",
     "text": [
      "[Collection(name=test2), Collection(name=test1), Collection(name=test3)]\n"
     ]
    }
   ],
   "source": [
    "coll = chroma_client.get_or_create_collection(name='test4') \n",
    "chroma_client.delete_collection(name='test4')\n",
    "\n",
    "print(chroma_client.list_collections())"
   ]
  },
  {
   "cell_type": "markdown",
   "id": "e3a698b0-7b59-41ee-9647-780b6078dba4",
   "metadata": {},
   "source": [
    "## 设置collection的embedding_function\n"
   ]
  },
  {
   "cell_type": "code",
   "execution_count": 33,
   "id": "3ea104a7-0649-4e4e-bccf-7ddec862b53e",
   "metadata": {},
   "outputs": [
    {
     "name": "stdout",
     "output_type": "stream",
     "text": [
      "name='test2' id=UUID('a814bafe-9094-410e-8d01-a7add573df73') metadata=None tenant='default_tenant' database='default_database'\n"
     ]
    }
   ],
   "source": [
    "\n",
    "emb_func = SentenceTransformerEmbeddingFunction()\n",
    "\n",
    "\n",
    "collection=chroma_client.get_or_create_collection(name='test2',embedding_function=emb_func)\n",
    "\n",
    "print(collection)"
   ]
  },
  {
   "cell_type": "code",
   "execution_count": 40,
   "id": "471a3037-3a71-45e2-98c8-a1fbbee17bcb",
   "metadata": {},
   "outputs": [
    {
     "name": "stdout",
     "output_type": "stream",
     "text": [
      "['test4', 'test2', 'test1', 'test3']\n",
      "name='test4' id=UUID('ddeabe61-28a6-44c1-aa7b-2f90641b7473') metadata=None tenant='default_tenant' database='default_database'\n"
     ]
    }
   ],
   "source": [
    "list_coll=chroma_client.list_collections()\n",
    "names=[coll.name for coll in list_coll]\n",
    "print(names)\n",
    "\n",
    "if 'test4' in names:\n",
    "    chroma_client.delete_collection(name='test4')\n",
    "                                    \n",
    "chroma_client.create_collection(name='test4',embedding_function=emb_func)\n",
    "\n",
    "coll=chroma_client.get_collection(name='test4')\n",
    "print(coll)\n"
   ]
  },
  {
   "cell_type": "markdown",
   "id": "318acadc-f9d2-4d0f-b377-dd87fae30f06",
   "metadata": {},
   "source": [
    "## 修改coll的距离函数\n",
    "\n",
    "collection允许用户自行切换距离计算函数，方法是通过设置cellection的metadata中的“hnsw:space”：\n",
    "\n",
    "chroma默认的距离计算是squared L2公式：（用’l2‘调用）\n",
    "$d = \\sum\\left(A_i-B_i\\right)^2$\n",
    "\n",
    "Inner product公式：（用‘ip’调用）\n",
    "$d = 1.0 - \\sum\\left(A_i \\times B_i\\right) $\n",
    "\n",
    "Cosine similarity的公式：（用‘consine’参数调用）\n",
    "$d = 1.0 - \\frac{\\sum\\left(A_i \\times B_i\\right)}{\\sqrt{\\sum\\left(A_i^2\\right)} \\cdot \\sqrt{\\sum\\left(B_i^2\\right)}}$\n"
   ]
  },
  {
   "cell_type": "code",
   "execution_count": 51,
   "id": "413b7323-560f-406b-a3c0-e993a948be25",
   "metadata": {},
   "outputs": [
    {
     "name": "stdout",
     "output_type": "stream",
     "text": [
      "[Collection(name=test2), Collection(name=test1), Collection(name=test3), Collection(name=test4)]\n",
      "[Collection(name=test5), Collection(name=test2), Collection(name=test1), Collection(name=test3), Collection(name=test4)]\n",
      "name='test5' id=UUID('80f5877c-cb3d-4d2d-9cd6-55be890d15e5') metadata={'hnsw:space': 'l2'} tenant='default_tenant' database='default_database'\n"
     ]
    }
   ],
   "source": [
    "\n",
    "list_coll=chroma_client.list_collections()\n",
    "names=[coll.name for coll in list_coll]\n",
    "if 'test5' in names:\n",
    "    chroma_client.delete_collection(name='test5')\n",
    "print(chroma_client.list_collections())\n",
    "\n",
    "collection = chroma_client.create_collection(\n",
    "      name=\"test5\",\n",
    "      # metadata={\"hnsw:space\": \"cosine\"} # l2 is the default\n",
    "      # metadata={\"hnsw:space\": \"ip\"} # l2 is the default\n",
    "      metadata={\"hnsw:space\": \"l2\"} # l2 is the default\n",
    "  )\n",
    "\n",
    "print(chroma_client.list_collections())\n",
    "print(collection)"
   ]
  },
  {
   "cell_type": "code",
   "execution_count": null,
   "id": "8f96bbaa-8773-4a27-8bfd-4d287436c9a5",
   "metadata": {},
   "outputs": [],
   "source": []
  },
  {
   "cell_type": "markdown",
   "id": "3c63a2a1-dcb8-4715-bc14-1baa2ac65b7c",
   "metadata": {},
   "source": [
    "# collection基本操作\n",
    "\n",
    "## add\n",
    "collection.add() 添加documents，ids是文档的唯一ID，不能重复。\n",
    "\n",
    "embeddings（可选）: 如果不传该参数，将根据Collection设置的embedding_function进行计算。  \n",
    "metadatas（可选）：要与嵌入关联的元数据。在查询时，您可以根据这些元数据进行过滤。  \n",
    "documents（可选）：与该嵌入相关联的文档，甚至可以不放文档。  \n"
   ]
  },
  {
   "cell_type": "code",
   "execution_count": 54,
   "id": "c4a72fbe-4354-47cc-8e20-dd988dfc0e9e",
   "metadata": {},
   "outputs": [
    {
     "name": "stderr",
     "output_type": "stream",
     "text": [
      "Add of existing embedding ID: id1\n",
      "Add of existing embedding ID: id2\n",
      "Insert of existing embedding ID: id1\n",
      "Insert of existing embedding ID: id2\n"
     ]
    },
    {
     "name": "stdout",
     "output_type": "stream",
     "text": [
      "name='test1' id=UUID('b6c8a2f1-d71f-40ed-8dc8-d093b6d81853') metadata={'hnsw:space': 'cosine'} tenant='default_tenant' database='default_database'\n",
      "name='test1' id=UUID('b6c8a2f1-d71f-40ed-8dc8-d093b6d81853') metadata={'hnsw:space': 'ip'} tenant='default_tenant' database='default_database'\n"
     ]
    }
   ],
   "source": [
    "emb_func = SentenceTransformerEmbeddingFunction()\n",
    "\n",
    "\n",
    "collection=chroma_client.get_or_create_collection(name='test1',embedding_function=emb_func)\n",
    "print(collection)\n",
    "\n",
    "collection.add(\n",
    "    documents=[\"This is a document about engineer\", \"This is a document about steak\"],\n",
    "    metadatas=[{\"source\": \"doc1\"}, {\"source\": \"doc2\"}],\n",
    "    ids=[\"id1\", \"id2\"]\n",
    ")\n",
    "\n",
    "collection.metadata={\"hnsw:space\": \"ip\"}\n",
    "print(collection)\n"
   ]
  },
  {
   "cell_type": "markdown",
   "id": "21a0778f-6e33-4a66-95f3-1d5cdb8efad2",
   "metadata": {},
   "source": [
    "## get"
   ]
  },
  {
   "cell_type": "code",
   "execution_count": 55,
   "id": "78256a84-5917-47aa-837c-a98fd4f38808",
   "metadata": {},
   "outputs": [
    {
     "data": {
      "text/plain": [
       "{'ids': ['id1'],\n",
       " 'embeddings': None,\n",
       " 'metadatas': [{'source': 'doc1'}],\n",
       " 'documents': ['This is a document about engineer'],\n",
       " 'uris': None,\n",
       " 'data': None}"
      ]
     },
     "execution_count": 55,
     "metadata": {},
     "output_type": "execute_result"
    }
   ],
   "source": [
    "collection.get(ids=['id1'])\n"
   ]
  },
  {
   "cell_type": "code",
   "execution_count": null,
   "id": "f6f1fe82-1b93-4edc-af44-0bb54e125596",
   "metadata": {},
   "outputs": [],
   "source": [
    "collection.add(\n",
    "    documents=[\"This is a document\", \"This is another document\"],\n",
    "    metadatas=[{\"source\": \"my_source\"}, {\"source\": \"my_source\"}],\n",
    "    ids=[\"id3\", \"id4\"]\n",
    ")"
   ]
  },
  {
   "cell_type": "markdown",
   "id": "dec7a9ad-a6fa-4bb6-a5e1-d8da074972a6",
   "metadata": {},
   "source": [
    "## update修改items\n",
    "\n",
    "如果update的id不存在，对coll不更新。"
   ]
  },
  {
   "cell_type": "code",
   "execution_count": 72,
   "id": "da30a23d-6320-49d9-976b-180f1ab97e31",
   "metadata": {},
   "outputs": [
    {
     "name": "stderr",
     "output_type": "stream",
     "text": [
      "Update of nonexisting embedding ID: id6\n",
      "Update of nonexisting embedding ID: id7\n",
      "Update of nonexisting embedding ID: id6\n",
      "Update of nonexisting embedding ID: id7\n"
     ]
    },
    {
     "data": {
      "text/plain": [
       "{'ids': ['id1', 'id2', 'id3', 'id4'],\n",
       " 'embeddings': None,\n",
       " 'metadatas': [{'source': 'id1'},\n",
       "  {'source': 'doc2'},\n",
       "  {'source': 'id3id3'},\n",
       "  {'source': 'id4id4'}],\n",
       " 'documents': ['id1',\n",
       "  'This is a document about steak',\n",
       "  'id3id3id3',\n",
       "  'id4id4id4'],\n",
       " 'uris': None,\n",
       " 'data': None}"
      ]
     },
     "execution_count": 72,
     "metadata": {},
     "output_type": "execute_result"
    }
   ],
   "source": [
    "collection.update(\n",
    "        documents=[\"id3id3id3\", \"id4id4id4\"],\n",
    "    metadatas=[{\"source\": \"id3id3\"}, {\"source\": \"id4id4\"}],\n",
    "    ids=[\"id6\", \"id7\"]\n",
    ")\n",
    "collection.get()\n",
    "    "
   ]
  },
  {
   "cell_type": "code",
   "execution_count": 64,
   "id": "de987c17-72ef-473d-83f3-81d8d0ebff1f",
   "metadata": {},
   "outputs": [],
   "source": [
    "collection.update(\n",
    "    documents=[\"id3id3id3\", \"id4id4id4\"],\n",
    "    metadatas=[{\"source\": \"id3id3\"}, {\"source\": \"id4id4\"}],\n",
    "    ids=[\"id3\", \"id4\"]\n",
    ")"
   ]
  },
  {
   "cell_type": "code",
   "execution_count": 65,
   "id": "7268f711-77cb-4eff-8874-bb8cbaa74f17",
   "metadata": {},
   "outputs": [
    {
     "data": {
      "text/plain": [
       "{'ids': ['id1', 'id2', 'id3', 'id4'],\n",
       " 'embeddings': None,\n",
       " 'metadatas': [{'source': 'doc1'},\n",
       "  {'source': 'doc2'},\n",
       "  {'source': 'id3id3'},\n",
       "  {'source': 'id4id4'}],\n",
       " 'documents': ['This is a document about engineer',\n",
       "  'This is a document about steak',\n",
       "  'id3id3id3',\n",
       "  'id4id4id4'],\n",
       " 'uris': None,\n",
       " 'data': None}"
      ]
     },
     "execution_count": 65,
     "metadata": {},
     "output_type": "execute_result"
    }
   ],
   "source": [
    "collection.get()\n"
   ]
  },
  {
   "cell_type": "markdown",
   "id": "af4616dc-657c-4b89-976b-dd5d88cd8be1",
   "metadata": {},
   "source": [
    "## delete\n",
    "\n"
   ]
  },
  {
   "cell_type": "code",
   "execution_count": 74,
   "id": "e092ef6b-1b35-48ed-a388-b54102b56971",
   "metadata": {},
   "outputs": [],
   "source": [
    "collection.delete(ids=['id1'])\n"
   ]
  },
  {
   "cell_type": "code",
   "execution_count": 75,
   "id": "dc213bf6-c904-46d2-abc2-8f97fed1f3e5",
   "metadata": {},
   "outputs": [
    {
     "data": {
      "text/plain": [
       "{'ids': ['id2', 'id3', 'id4'],\n",
       " 'embeddings': None,\n",
       " 'metadatas': [{'source': 'doc2'}, {'source': 'id3id3'}, {'source': 'id4id4'}],\n",
       " 'documents': ['This is a document about steak', 'id3id3id3', 'id4id4id4'],\n",
       " 'uris': None,\n",
       " 'data': None}"
      ]
     },
     "execution_count": 75,
     "metadata": {},
     "output_type": "execute_result"
    }
   ],
   "source": [
    "collection.get()\n"
   ]
  },
  {
   "cell_type": "markdown",
   "id": "e3363b2b-b75c-4fbf-ab7a-1b3423c07d2a",
   "metadata": {},
   "source": [
    "## upsert\n",
    "\n",
    "更新item，如果不存在就创建。\n"
   ]
  },
  {
   "cell_type": "code",
   "execution_count": 76,
   "id": "c783e856-1e65-4f35-80b1-e019a7366bd8",
   "metadata": {},
   "outputs": [
    {
     "data": {
      "text/plain": [
       "{'ids': ['id1', 'id2', 'id3', 'id4'],\n",
       " 'embeddings': None,\n",
       " 'metadatas': [{'source': 'id1'},\n",
       "  {'source': 'doc2'},\n",
       "  {'source': 'id3id3'},\n",
       "  {'source': 'id4id4'}],\n",
       " 'documents': ['id1',\n",
       "  'This is a document about steak',\n",
       "  'id3id3id3',\n",
       "  'id4id4id4'],\n",
       " 'uris': None,\n",
       " 'data': None}"
      ]
     },
     "execution_count": 76,
     "metadata": {},
     "output_type": "execute_result"
    }
   ],
   "source": [
    "collection.upsert(\n",
    "    documents=[\"id1\"],\n",
    "    metadatas=[{\"source\": \"id1\"}],\n",
    "    ids=[\"id1\"]\n",
    ")\n",
    "collection.get()"
   ]
  },
  {
   "cell_type": "markdown",
   "id": "917e0afe-1c18-44c5-ae76-2fd754f7fdbd",
   "metadata": {},
   "source": [
    "## embedding_func\n",
    "\n"
   ]
  },
  {
   "cell_type": "code",
   "execution_count": null,
   "id": "9c432506-a09d-48e2-8484-8c1896997ef6",
   "metadata": {},
   "outputs": [],
   "source": [
    "\n",
    "default_emb_func=DefaultEmbeddingFunction()\n",
    "embedding_function = SentenceTransformerEmbeddingFunction()\n",
    "\n",
    "\n",
    "ans=default_emb_func(['hi'])\n",
    "print(type(ans))\n",
    "print(ans)\n",
    "print(len(ans[0])) # 384\n"
   ]
  },
  {
   "cell_type": "code",
   "execution_count": null,
   "id": "db34263f-29f5-46b4-b71c-c12dd71a9be9",
   "metadata": {},
   "outputs": [],
   "source": []
  },
  {
   "cell_type": "markdown",
   "id": "af2fe4c6-8f09-46ba-beda-3ccf53a273b6",
   "metadata": {},
   "source": [
    "## query查询\n"
   ]
  },
  {
   "cell_type": "code",
   "execution_count": 80,
   "id": "ac36aaf3-da50-4612-9406-824e82fdeac4",
   "metadata": {},
   "outputs": [
    {
     "name": "stdout",
     "output_type": "stream",
     "text": [
      "{'ids': [['id2', 'id3']], 'distances': [[1.7640920877456665, 1.9583094120025635]], 'metadatas': [[{'source': 'doc2'}, {'source': 'id3id3'}]], 'embeddings': None, 'documents': [['This is a document about steak', 'id3id3id3']], 'uris': None, 'data': None}\n"
     ]
    }
   ],
   "source": [
    "results = collection.query(\n",
    "    query_texts=[\"今天天气好吗？\"],\n",
    "    n_results=2\n",
    ")\n",
    "\n",
    "print(results)\n"
   ]
  },
  {
   "cell_type": "markdown",
   "id": "d05b93fa-7fbb-42b2-a68b-e5ce3b63baff",
   "metadata": {},
   "source": [
    "或者使用query_embeddings查询\n"
   ]
  },
  {
   "cell_type": "code",
   "execution_count": null,
   "id": "9ac57356-c7e3-4759-a884-adc1cd1b9f41",
   "metadata": {},
   "outputs": [],
   "source": []
  }
 ],
 "metadata": {
  "kernelspec": {
   "display_name": "Python 3 (ipykernel)",
   "language": "python",
   "name": "python3"
  },
  "language_info": {
   "codemirror_mode": {
    "name": "ipython",
    "version": 3
   },
   "file_extension": ".py",
   "mimetype": "text/x-python",
   "name": "python",
   "nbconvert_exporter": "python",
   "pygments_lexer": "ipython3",
   "version": "3.10.12"
  }
 },
 "nbformat": 4,
 "nbformat_minor": 5
}
